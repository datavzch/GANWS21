{
  "nbformat": 4,
  "nbformat_minor": 0,
  "metadata": {
    "colab": {
      "name": "Training Stylegan.ipynb",
      "provenance": [],
      "authorship_tag": "ABX9TyMrp5l2TkLfsbDXQ+kfMjjK",
      "include_colab_link": true
    },
    "kernelspec": {
      "name": "python3",
      "display_name": "Python 3"
    },
    "accelerator": "GPU"
  },
  "cells": [
    {
      "cell_type": "markdown",
      "metadata": {
        "id": "view-in-github",
        "colab_type": "text"
      },
      "source": [
        "<a href=\"https://colab.research.google.com/github/datavzch/GANWS21/blob/main/Training_Stylegan-DirectlyinDrive.ipynb\" target=\"_parent\"><img src=\"https://colab.research.google.com/assets/colab-badge.svg\" alt=\"Open In Colab\"/></a>"
      ]
    },
    {
      "cell_type": "markdown",
      "metadata": {
        "id": "JI3noOj0JS77"
      },
      "source": [
        "# **Requirements and Preparation**"
      ]
    },
    {
      "cell_type": "code",
      "metadata": {
        "id": "M-Hdx9DCJVRt"
      },
      "source": [
        "#Use of Tensor flow 1.X is recomended for the current notebook\r\n",
        "%tensorflow_version 1.x #If you are using Google Colab"
      ],
      "execution_count": null,
      "outputs": []
    },
    {
      "cell_type": "code",
      "metadata": {
        "id": "AmViT9rhJV2m"
      },
      "source": [
        "%pip install Google-Colab-Transfer #If you are Using Google Colab "
      ],
      "execution_count": null,
      "outputs": []
    },
    {
      "cell_type": "code",
      "metadata": {
        "id": "rdigjSuuLG25"
      },
      "source": [
        "!apt-get install imagemagick #Image magick Instalation for Linux machines - Google Colab - Intallation for Mac and Windows: https://imagemagick.org/script/download.php"
      ],
      "execution_count": null,
      "outputs": []
    },
    {
      "cell_type": "markdown",
      "metadata": {
        "id": "U6fhAn8pJjNU"
      },
      "source": [
        "**Mount Google Drive** \r\n",
        "\r\n",
        "In case you are using google cloud to train"
      ]
    },
    {
      "cell_type": "code",
      "metadata": {
        "id": "j2xgfuYWJcWN"
      },
      "source": [
        "import colab_transfer\n",
        "\n",
        "gd = colab_transfer.get_path_to_home_of_google_drive()\n",
        "lm = colab_transfer.get_path_to_home_of_local_machine()\n",
        "\n",
        "colab_transfer.mount_google_drive()"
      ],
      "execution_count": null,
      "outputs": []
    },
    {
      "cell_type": "markdown",
      "metadata": {
        "id": "mmzu3IjqJ_iO"
      },
      "source": [
        "**Clone Stylegan2-ada  Repository**"
      ]
    },
    {
      "cell_type": "code",
      "metadata": {
        "id": "jp9-Hte0Jk_D"
      },
      "source": [
        "# Clone Stylegan2-Ada repository from hithub\n",
        "!git clone https://github.com/NVlabs/stylegan2-ada.git\n"
      ],
      "execution_count": null,
      "outputs": []
    },
    {
      "cell_type": "markdown",
      "metadata": {
        "id": "MIGD9SvHKRbm"
      },
      "source": [
        "## **Create Personal Dataset**"
      ]
    },
    {
      "cell_type": "markdown",
      "metadata": {
        "id": "2qTttRcELO14"
      },
      "source": [
        "**Resize Images and generate tfrecords**"
      ]
    },
    {
      "cell_type": "code",
      "metadata": {
        "id": "8JctLJhOLTYh"
      },
      "source": [
        "#Resize all images to 256x256 - jpg\r\n",
        "#use your drive path\r\n",
        "!mogrify -resize !256x256 /content/drive/MyDrive/DatasetImages/*.jpg #Make sure your files are here - Change directory accordingly "
      ],
      "execution_count": null,
      "outputs": []
    },
    {
      "cell_type": "markdown",
      "metadata": {
        "id": "IRtlJjNCiCaj"
      },
      "source": [
        ""
      ]
    },
    {
      "cell_type": "code",
      "metadata": {
        "id": "a03d0zDrWLoO"
      },
      "source": [
        "#Use dataset_tool.py to create dataset\r\n",
        "#use your drive path\r\n",
        "!python stylegan2-ada/dataset_tool.py create_from_images /content/drive/MyDrive/Dataset/ /content/drive/MyDrive/DatasetImages/"
      ],
      "execution_count": null,
      "outputs": []
    },
    {
      "cell_type": "markdown",
      "metadata": {
        "id": "azfdJVh-SHpp"
      },
      "source": [
        "# **Training Stylegan**"
      ]
    },
    {
      "cell_type": "code",
      "metadata": {
        "id": "Qt-COrT3SJa8"
      },
      "source": [
        "#Train Stylegan with own Dataset\n",
        "#use your drive path\n",
        "!python ./stylegan2-ada/train.py \\\n",
        "--outdir='/content/drive/MyDrive/Output' \\\n",
        "--snap=6 --data='/content/drive/MyDrive/Dataset' --mirror=true \\\n",
        "--metrics=none \\\n",
        "--cfg=auto \\\n",
        "--kimg=5000 \\"
      ],
      "execution_count": null,
      "outputs": []
    },
    {
      "cell_type": "markdown",
      "metadata": {
        "id": "EfMgaFk2YcnQ"
      },
      "source": [
        "**Resume from snapshot**"
      ]
    },
    {
      "cell_type": "code",
      "metadata": {
        "id": "AQ2uKH80Ud2_"
      },
      "source": [
        "#Resume trainning from previous trainning run\n",
        "#use your drive path\n",
        "!python stylegan2-ada/train.py \\\n",
        "--outdir='/content/drive/MyDrive/Output' \\\n",
        "--snap=6 \\\n",
        "--data='/content/drive/MyDrive/Dataset' \\\n",
        "--mirror=true \\\n",
        "--metrics=none \\\n",
        "--cfg=auto \\\n",
        "--kimg=5000 \\\n",
        "--resume='/content/drive/MyDrive/your.pkl' \\\n",
        "--freezed=10 "
      ],
      "execution_count": null,
      "outputs": []
    },
    {
      "cell_type": "code",
      "metadata": {
        "id": "JLUBc_YXSZp6"
      },
      "source": [
        "#Generate Images  #Modify seed values\n",
        "!python stylegan2-ada/generate.py --outdir=out --trunc=1 --seeds=600-605 --network=\"Path to pickle\""
      ],
      "execution_count": null,
      "outputs": []
    }
  ]
}