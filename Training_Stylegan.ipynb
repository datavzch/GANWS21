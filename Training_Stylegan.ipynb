{
  "nbformat": 4,
  "nbformat_minor": 0,
  "metadata": {
    "colab": {
      "name": "Training Stylegan.ipynb",
      "provenance": [],
      "toc_visible": true,
      "authorship_tag": "ABX9TyO2swbtmeQc7fnuPBCWG1WJ",
      "include_colab_link": true
    },
    "kernelspec": {
      "name": "python3",
      "display_name": "Python 3"
    },
    "accelerator": "GPU"
  },
  "cells": [
    {
      "cell_type": "markdown",
      "metadata": {
        "id": "view-in-github",
        "colab_type": "text"
      },
      "source": [
        "<a href=\"https://colab.research.google.com/github/datavzch/GANWS21/blob/main/Training_Stylegan.ipynb\" target=\"_parent\"><img src=\"https://colab.research.google.com/assets/colab-badge.svg\" alt=\"Open In Colab\"/></a>"
      ]
    },
    {
      "cell_type": "markdown",
      "metadata": {
        "id": "JI3noOj0JS77"
      },
      "source": [
        "# **Requirements and Preparation**"
      ]
    },
    {
      "cell_type": "code",
      "metadata": {
        "id": "M-Hdx9DCJVRt"
      },
      "source": [
        "#Use of Tensor flow 1.X is recomended for the current notebook\r\n",
        "%tensorflow_version 1.x #If you are using Google Colab"
      ],
      "execution_count": null,
      "outputs": []
    },
    {
      "cell_type": "code",
      "metadata": {
        "id": "AmViT9rhJV2m"
      },
      "source": [
        "%pip install Google-Colab-Transfer #If you are Using Google Colab "
      ],
      "execution_count": null,
      "outputs": []
    },
    {
      "cell_type": "code",
      "metadata": {
        "id": "rdigjSuuLG25"
      },
      "source": [
        "!apt-get install imagemagick #Image magick Instalation for Linux machines - Google Colab - Intallation for Mac and Windows: https://imagemagick.org/script/download.php"
      ],
      "execution_count": null,
      "outputs": []
    },
    {
      "cell_type": "markdown",
      "metadata": {
        "id": "U6fhAn8pJjNU"
      },
      "source": [
        "**Mount Google Drive** \r\n",
        "\r\n",
        "In case you are using google cloud to train"
      ]
    },
    {
      "cell_type": "code",
      "metadata": {
        "id": "j2xgfuYWJcWN"
      },
      "source": [
        "import colab_transfer\n",
        "\n",
        "gd = colab_transfer.get_path_to_home_of_google_drive()\n",
        "lm = colab_transfer.get_path_to_home_of_local_machine()\n",
        "\n",
        "colab_transfer.mount_google_drive()"
      ],
      "execution_count": null,
      "outputs": []
    },
    {
      "cell_type": "markdown",
      "metadata": {
        "id": "mmzu3IjqJ_iO"
      },
      "source": [
        "**Clone Stylegan2-ada  Repository**"
      ]
    },
    {
      "cell_type": "code",
      "metadata": {
        "id": "jp9-Hte0Jk_D"
      },
      "source": [
        "#%cd /content/ #for google colab\n",
        "# Clone Stylegan2-Ada repository from hithub\n",
        "!git clone https://github.com/NVlabs/stylegan2-ada.git\n",
        "#%cd stylegan2-ada/ #Go to downloaded container folder\n",
        "#%cd /content/ #Main folder in google colab"
      ],
      "execution_count": null,
      "outputs": []
    },
    {
      "cell_type": "markdown",
      "metadata": {
        "id": "MIGD9SvHKRbm"
      },
      "source": [
        "## **Create Personal Dataset**"
      ]
    },
    {
      "cell_type": "code",
      "metadata": {
        "id": "MzZP8FoJKIPR"
      },
      "source": [
        "#Make your own dataset based on personal images\n",
        "#Create directory for Dataset Images - Deposit your images here\n",
        "%mkdir basefordataset\n",
        "%cd basefordataset\n",
        "#Create directory for Tensor flow records - # more info: https://www.tensorflow.org/tutorials/load_data/tfrecord\n",
        "%mkdir category1\n",
        "%cd category1 \n",
        "\n",
        "\n",
        "#for google colab users - if you require to upload files manually\n",
        "#from google.colab import files\n",
        "#uploaded = files.upload()\n",
        "\n",
        "#for fn in uploaded.keys():\n",
        "#  print('User uploaded file \"{name}\" with length {length} bytes'.format(\n",
        "#      name=fn, length=len(uploaded[fn])))"
      ],
      "execution_count": null,
      "outputs": []
    },
    {
      "cell_type": "code",
      "metadata": {
        "id": "QHDomf4_OHn6"
      },
      "source": [
        "#Go back to main directory\n",
        "%cd ../\n",
        "%ls"
      ],
      "execution_count": null,
      "outputs": []
    },
    {
      "cell_type": "markdown",
      "metadata": {
        "id": "2qTttRcELO14"
      },
      "source": [
        "**Resize Images and generate tfrecords**"
      ]
    },
    {
      "cell_type": "code",
      "metadata": {
        "id": "8JctLJhOLTYh"
      },
      "source": [
        "#Resize all images to 256x256 - jpg\r\n",
        "!mogrify -resize !256x256 basefordataset/*/*.jpg #Make sure your files are here - Change directory accordingly "
      ],
      "execution_count": null,
      "outputs": []
    },
    {
      "cell_type": "markdown",
      "metadata": {
        "id": "IRtlJjNCiCaj"
      },
      "source": [
        ""
      ]
    },
    {
      "cell_type": "code",
      "metadata": {
        "id": "a03d0zDrWLoO"
      },
      "source": [
        "#Use dataset_tool.py to create dataset\r\n",
        "!python stylegan2-ada/dataset_tool.py create_from_images ./dataset ./ImagesDirectory"
      ],
      "execution_count": null,
      "outputs": []
    },
    {
      "cell_type": "code",
      "metadata": {
        "id": "kz_bruQuPzYE"
      },
      "source": [
        "#Compress dataset for uploading if necessary - Google Colab\r\n",
        "#!tar -czvf dataset.tar.gz ./dataset/"
      ],
      "execution_count": null,
      "outputs": []
    },
    {
      "cell_type": "markdown",
      "metadata": {
        "id": "N-YtSJScL80D"
      },
      "source": [
        "**Copy resulting dataset folder to Google drive**"
      ]
    },
    {
      "cell_type": "code",
      "metadata": {
        "id": "wiLCnac8L_WB"
      },
      "source": [
        "#Upload dataset\n",
        "#colab_transfer.copy_file(\n",
        "#    file_name=\"dataset.tar.gz\",\n",
        "#    source=\"./\",\n",
        "#    destination=\"./drive/My Drive/Datasets/\",\n",
        "#)"
      ],
      "execution_count": null,
      "outputs": []
    },
    {
      "cell_type": "markdown",
      "metadata": {
        "id": "3EuxmoaMMA3j"
      },
      "source": [
        "**Copy  dataset from drive to stylegan folder**"
      ]
    },
    {
      "cell_type": "code",
      "metadata": {
        "id": "HcfigCHIRYCC"
      },
      "source": [
        "#Copy dataset from Google Drive\n",
        "#colab_transfer.copy_file(\n",
        "#    file_name=\"dataset.tar.gz\",\n",
        "#    source=\"./drive/My Drive/Datasets/\",\n",
        "#    destination=\"./stylegan2-ada/Datasets/\",\n",
        "#)"
      ],
      "execution_count": null,
      "outputs": []
    },
    {
      "cell_type": "code",
      "metadata": {
        "id": "M67BodZFRrw5"
      },
      "source": [
        "#Uncompress dataset\r\n",
        "#!tar -C ./stylegan2-ada/Datasets/ -xvf ./stylegan2-ada/Datasets/dataset.tar.gz"
      ],
      "execution_count": null,
      "outputs": []
    },
    {
      "cell_type": "code",
      "metadata": {
        "id": "04qh0VEiUP1E"
      },
      "source": [
        "#Go back to main directory\r\n",
        "#%cd .."
      ],
      "execution_count": null,
      "outputs": []
    },
    {
      "cell_type": "markdown",
      "metadata": {
        "id": "azfdJVh-SHpp"
      },
      "source": [
        "# **Training Stylegan**"
      ]
    },
    {
      "cell_type": "code",
      "metadata": {
        "id": "Qt-COrT3SJa8"
      },
      "source": [
        "#Train Stylegan with own Dataset\n",
        "!python ./stylegan2-ada/train.py \\\n",
        "--outdir='../drive/My Drive/training-runs' \\\n",
        "--snap=6 --data='./dataset' --mirror=true \\\n",
        "--metrics=none \\\n",
        "--cfg=auto \\\n",
        "--kimg=5000 \\"
      ],
      "execution_count": null,
      "outputs": []
    },
    {
      "cell_type": "markdown",
      "metadata": {
        "id": "EfMgaFk2YcnQ"
      },
      "source": [
        "**Resume from snapshot**"
      ]
    },
    {
      "cell_type": "code",
      "metadata": {
        "id": "AQ2uKH80Ud2_"
      },
      "source": [
        "#Resume trainning from previous trainning run\n",
        "!python stylegan2-ada/train.py \\\n",
        "--outdir='/content/drive/My Drive/training-runs' \\\n",
        "--snap=6 \\\n",
        "--data='./dataset' \\\n",
        "--mirror=true \\\n",
        "--metrics=none \\\n",
        "--cfg=auto \\\n",
        "--kimg=5000 \\\n",
        "--resume='Path to Pickle File' \\\n",
        "--freezed=10 "
      ],
      "execution_count": null,
      "outputs": []
    }
  ]
}